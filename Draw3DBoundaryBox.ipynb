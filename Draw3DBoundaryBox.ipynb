{
 "cells": [
  {
   "cell_type": "markdown",
   "metadata": {
    "id": "dkzvk5f3ayaO"
   },
   "source": [
    "Imports and Constants:"
   ]
  },
  {
   "cell_type": "code",
   "execution_count": 1,
   "metadata": {
    "id": "U4lVEB2tycpd"
   },
   "outputs": [],
   "source": [
    "%matplotlib inline\n",
    "from matplotlib import pyplot as plt\n",
    "import cv2\n",
    "import numpy as np\n",
    "import pandas as pd\n",
    "import os\n",
    "from pathlib import Path\n",
    "import os\n",
    "from os.path import basename\n",
    "\n",
    "\n",
    "\n",
    "image_dir = 'kitti/data_tracking_image_2/training/image_02/'\n",
    "label_dir = 'kitti/data_tracking_label_2/training/label_02/'\n",
    "calib_dir = 'kitti/data_tracking_calib/training/calib/'\n",
    "drawn_images_dir = 'kitti/drawn_image/'\n",
    "number_of_drives = len(os.listdir(calib_dir)) # number of folders that each of them containing  Tracking images\n"
   ]
  },
  {
   "cell_type": "markdown",
   "metadata": {
    "id": "SabYUe1mQbEZ"
   },
   "source": [
    "Using this function we can read the labels into DataFrame:"
   ]
  },
  {
   "cell_type": "code",
   "execution_count": 3,
   "metadata": {
    "id": "PUU-Pd2F4Kr6"
   },
   "outputs": [],
   "source": [
    "def read_label_3d(label_file):\n",
    "    \"\"\"Read and parse label information of kitti 3d object detection dataset.\n",
    "\n",
    "    :param label_file: filname like kitti_3d/{training,testing}/label_2/id.txt\n",
    "    Returns Pandas DataFrame\n",
    "    Data Format Description\n",
    "    =======================\n",
    "    The data for training and testing can be found in the corresponding folders.\n",
    "    The sub-folders are structured as follows:\n",
    "      - image_02/ contains the left color camera images (png)\n",
    "      - label_02/ contains the left color camera label files (plain text files)\n",
    "      - calib/ contains the calibration for all four cameras (plain text file)\n",
    "    The label files contain the following information, which can be read and\n",
    "    written using the matlab tools (readLabels.m, writeLabels.m) provided within\n",
    "    this devkit. All values (numerical or strings) are separated via spaces,\n",
    "    each row corresponds to one object. The 15 columns represent:\n",
    "    #Values    Name      Description\n",
    "    ----------------------------------------------------------------------------\n",
    "       1    type         Describes the type of object: 'Car', 'Van', 'Truck',\n",
    "                         'Pedestrian', 'Person_sitting', 'Cyclist', 'Tram',\n",
    "                         'Misc' or 'DontCare'\n",
    "       1    truncated    Float from 0 (non-truncated) to 1 (truncated), where\n",
    "                         truncated refers to the object leaving image boundaries\n",
    "       1    occluded     Integer (0,1,2,3) indicating occlusion state:\n",
    "                         0 = fully visible, 1 = partly occluded\n",
    "                         2 = largely occluded, 3 = unknown\n",
    "       1    alpha        Observation angle of object, ranging [-pi..pi]\n",
    "       4    bbox         2D bounding box of object in the image (0-based index):\n",
    "                         contains left, top, right, bottom pixel coordinates\n",
    "       3    dimensions   3D object dimensions: height, width, length (in meters)\n",
    "       3    location     3D object location x,y,z in camera coordinates (in meters)\n",
    "       1    rotation_y   Rotation ry around Y-axis in camera coordinates [-pi..pi]\n",
    "       1    score        Only for results: Float, indicating confidence in\n",
    "                         detection, needed for p/r curves, higher is better.\n",
    "    \"\"\"\n",
    "    return pd.read_csv(label_file, sep=\" \", names=['frame_number','tracking_id','label', 'truncated', 'occluded', 'alpha', 'bbox_xmin', 'bbox_ymin', 'bbox_xmax', 'bbox_ymax', 'dim_height', 'dim_width', 'dim_length', 'loc_x', 'loc_y', 'loc_z', 'rotation_y', 'score'])"
   ]
  },
  {
   "cell_type": "markdown",
   "metadata": {
    "id": "x9xbssiNR20C"
   },
   "source": [
    "This function receives the dimensions, location, and the yaw of boundary box and returns it in cam2 coordinates:"
   ]
  },
  {
   "cell_type": "code",
   "execution_count": 4,
   "metadata": {
    "id": "UAS111OnOAah"
   },
   "outputs": [],
   "source": [
    "# 3D box under cam2 coordinates\n",
    "def compute_3D_box_cam2(h,w,l,x,y,z,yaw):\n",
    "    \"\"\"\n",
    "    Return:3Xn in cam2 coordinate\n",
    "    \"\"\"\n",
    "    # Create rotation matrix R\n",
    "    R = np.array([[np.cos(yaw), 0, np.sin(yaw)],[0,1,0],[-np.sin(yaw),0,np.cos(yaw)]])\n",
    "    # Calculate 8 vertex coordinates\n",
    "    x_corners = [l/2,l/2,-l/2,-l/2,l/2,l/2,-l/2,-l/2]\n",
    "    y_corners = [0,0,0,0,-h,-h,-h,-h]\n",
    "    z_corners = [w/2,-w/2,-w/2,w/2,w/2,-w/2,-w/2,w/2]\n",
    "    # Use rotation matrix to transform coordinates\n",
    "    corners_3d_cam2 = np.dot(R, np.vstack([x_corners, y_corners, z_corners]))\n",
    "    # Finally add the center point\n",
    "    corners_3d_cam2 += np.vstack([x, y, z])\n",
    "    return corners_3d_cam2"
   ]
  },
  {
   "cell_type": "markdown",
   "metadata": {
    "id": "huMEmvTZQMFl"
   },
   "source": [
    "This part simply reads calibration file from the path specified:"
   ]
  },
  {
   "cell_type": "code",
   "execution_count": 5,
   "metadata": {
    "id": "duj0MfkTV7t2"
   },
   "outputs": [],
   "source": [
    "def calibration_file_p2(path):\n",
    "    \"\"\"Read calibration matrix\"\"\"\n",
    "    lines = open(path,\"r\").readlines()\n",
    "    line2 = lines[2].split()\n",
    "    values = np.zeros((3,4))\n",
    "    for count,value in enumerate(line2[1:]):\n",
    "        values[ int(count/4) , count % 4] = value;\n",
    "    return values"
   ]
  },
  {
   "cell_type": "markdown",
   "metadata": {
    "id": "3RLYJf52QuHq"
   },
   "source": [
    "Given the image and a bounding box this function draw it on the image:"
   ]
  },
  {
   "cell_type": "code",
   "execution_count": 6,
   "metadata": {
    "id": "NcOnWlolEb8b"
   },
   "outputs": [],
   "source": [
    "def draw_box(img, box, p2, index, driveNumber, frame_number):\n",
    "    \"\"\"Draw bounding box to image\n",
    "    Keyword arguments:\n",
    "    img          -- Input image (array)\n",
    "    box          -- bbox info.one row of dataFrame that created by **read_label_3d** function (panda series) \n",
    "    p2           -- Camera calibration matrix (array)\n",
    "    index        -- object index\n",
    "    dataFrame    -- label information of kitti 3d object detection dataset (Pandas DataFrame)\n",
    "    driveNumber  -- Folder number that contains frames (int)\n",
    "    frame_number -- Frame number (int)\n",
    "    \"\"\"\n",
    "    l = box.dim_length\n",
    "    h = box.dim_height\n",
    "    w = box.dim_width\n",
    "    loc_x = box.loc_x\n",
    "    loc_y = box.loc_y\n",
    "    loc_z = box.loc_z\n",
    "    yaw = box.rotation_y\n",
    "    x_corners = np.array( [l/2, l/2, -l/2, -l/2,  l/2,  l/2, -l/2, -l/2] )+ loc_x\n",
    "    y_corners = np.array( [0,   0,    0,    0,   -h,   -h,   -h,   -h  ] )+ loc_y\n",
    "    z_corners = np.array( [w/2, -w/2, -w/2, w/2, w/2, -w/2, -w/2, w/2  ] )+ loc_z\n",
    "    corners_3d_cam2 = compute_3D_box_cam2(h, w, l, loc_x, loc_y, loc_z, yaw)\n",
    "    corners_3d_cam2 = np.vstack((corners_3d_cam2,np.ones((1,8))))\n",
    "    points = p2.dot( corners_3d_cam2)\n",
    "    finalPoints = []\n",
    "    for i in range(8):\n",
    "        temp = tuple( ((points[:2,i])/(points[2,i])).astype(int) )\n",
    "        finalPoints.append(temp)\n",
    "    img =cv2.line(img,finalPoints[0],finalPoints[1],(0,0,255),2)\n",
    "    img =cv2.line(img,finalPoints[1],finalPoints[2],(0,0,255),2)\n",
    "    img =cv2.line(img,finalPoints[2],finalPoints[3],(0,0,255),2)\n",
    "    img =cv2.line(img,finalPoints[3],finalPoints[0],(0,0,255),2)\n",
    "\n",
    "    img =cv2.line(img,finalPoints[4],finalPoints[5],(0,0,255),2)\n",
    "    img =cv2.line(img,finalPoints[5],finalPoints[6],(0,0,255),2)\n",
    "    img =cv2.line(img,finalPoints[6],finalPoints[7],(0,0,255),2)\n",
    "    img =cv2.line(img,finalPoints[7],finalPoints[4],(0,0,255),2)\n",
    "\n",
    "    img =cv2.line(img,finalPoints[0],finalPoints[4],(0,0,255),2)\n",
    "    img =cv2.line(img,finalPoints[1],finalPoints[5],(0,0,255),2)\n",
    "    img =cv2.line(img,finalPoints[2],finalPoints[6],(0,0,255),2)\n",
    "    img =cv2.line(img,finalPoints[3],finalPoints[7],(0,0,255),2)"
   ]
  },
  {
   "cell_type": "markdown",
   "metadata": {
    "id": "pYZzEoz_Q4rU"
   },
   "source": [
    "This function iterates over bounding boxes related to each frame:"
   ]
  },
  {
   "cell_type": "code",
   "execution_count": 7,
   "metadata": {
    "id": "ZXPm85q7iegu"
   },
   "outputs": [],
   "source": [
    "def draw_frame( dataFrame, driveNumber, frame_number, p2,show =False):\n",
    "    \"\"\" Return frame matrix with 3d bounding box\n",
    "    Keyword arguments:\n",
    "    dataFrame    -- label information of kitti 3d object detection dataset (Pandas dataFrame)\n",
    "    driveNumber  -- Folder number that contains frames (int)\n",
    "    frame_number -- Frame number (int)\n",
    "    p2           -- Camera calibration matrix (array)\n",
    "    show         -- print result\n",
    "    \"\"\"\n",
    "    frame_data = dataFrame.loc[ (dataFrame.frame_number == frame_number) & (dataFrame.label != \"DontCare\") & (dataFrame.label != \"Pedestrian\") & (dataFrame.truncated == 0) ]\n",
    "    I = cv2.imread( image_dir + number_length_fixer(driveNumber) + \"/\" + number_length_fixer(frame_number,6) + \".png\" )\n",
    "    for index, box in frame_data.iterrows():\n",
    "        draw_box(I,box,p2,index,driveNumber,frame_number)\n",
    "        # Print result in frame 70\n",
    "        if frame_number == 70 and show == True:\n",
    "            plt.figure(figsize = (30,101.6))\n",
    "            plt.imshow(I,interpolation='nearest')\n",
    "            plt.show()\n",
    "            print(\"frame_number: \", frame_number)\n",
    "            print(\"box is:\")\n",
    "            print(box)\n",
    "    return I\n",
    "\n",
    "def number_length_fixer(num, length = 4):\n",
    "    \"\"\"Return number with Intended zeros before the number\"\"\"\n",
    "    number_of_zero = length - len ( str(num) )\n",
    "    return \"\" + (\"0\" * number_of_zero) + str(num)\n"
   ]
  },
  {
   "cell_type": "markdown",
   "metadata": {
    "id": "1OSG6j8XRCOB"
   },
   "source": [
    "This function iterates over frames of specified input drive:"
   ]
  },
  {
   "cell_type": "code",
   "execution_count": 8,
   "metadata": {
    "id": "-ojv894J3bPA"
   },
   "outputs": [],
   "source": [
    "def draw_drive(drive_number):\n",
    "    \"\"\"Save pic.png with bounding box for each frame\n",
    "    Keyword arguments:\n",
    "    drive_number -- Folder number that contains frames (int)\n",
    "    \"\"\"\n",
    "    labels = read_label_3d( label_dir + number_length_fixer(drive_number, 4) + \".txt\" )\n",
    "    p2 = calibration_file_p2(calib_dir + number_length_fixer(drive_number) + \".txt\")\n",
    "    # number of frames in tracking folder.\n",
    "    number_of_frames = len(os.listdir( image_dir + number_length_fixer(drive_number,4) ))\n",
    "    Path(drawn_images_dir + number_length_fixer(drive_number) + \"/\").mkdir(parents=True, exist_ok=True) \n",
    "    for frame_number in range(number_of_frames):\n",
    "        I = draw_frame(labels, drive_number, frame_number, p2, show=False)\n",
    "        image_path = drawn_images_dir + number_length_fixer(drive_number) + \"/\" + number_length_fixer(frame_number,6) + \".png\"\n",
    "        cv2.imwrite( image_path , I ) \n",
    "\n"
   ]
  },
  {
   "cell_type": "code",
   "execution_count": 10,
   "metadata": {
    "colab": {
     "base_uri": "https://localhost:8080/",
     "height": 1000
    },
    "id": "_KZRiic61Far",
    "outputId": "8b34d879-3c20-435a-e93c-5c6a6b1832b1"
   },
   "outputs": [],
   "source": [
    "draw_drive(0)"
   ]
  },
  {
   "cell_type": "code",
   "execution_count": 11,
   "metadata": {},
   "outputs": [],
   "source": [
    "draw_drive(0)"
   ]
  },
  {
   "cell_type": "markdown",
   "metadata": {
    "id": "JXN3If-YRNxH"
   },
   "source": [
    "This function draws boundary boxes on all images of all of the drives:"
   ]
  },
  {
   "cell_type": "code",
   "execution_count": null,
   "metadata": {
    "id": "LZ1QtFksChOC"
   },
   "outputs": [],
   "source": [
    "def draw_all():\n",
    "    for drive_number in range(number_of_drives):\n",
    "        draw_drive(drive_number)\n",
    "\n",
    "draw_all()"
   ]
  }
 ],
 "metadata": {
  "colab": {
   "collapsed_sections": [],
   "name": "Draw3DBoundaryBox.ipynb",
   "provenance": []
  },
  "kernelspec": {
   "display_name": "Python 3 (ipykernel)",
   "language": "python",
   "name": "python3"
  },
  "language_info": {
   "codemirror_mode": {
    "name": "ipython",
    "version": 3
   },
   "file_extension": ".py",
   "mimetype": "text/x-python",
   "name": "python",
   "nbconvert_exporter": "python",
   "pygments_lexer": "ipython3",
   "version": "3.9.5"
  }
 },
 "nbformat": 4,
 "nbformat_minor": 1
}
